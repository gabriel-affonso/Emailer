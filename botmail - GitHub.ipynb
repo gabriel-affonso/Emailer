{
 "cells": [
  {
   "cell_type": "code",
   "execution_count": 2,
   "metadata": {},
   "outputs": [
    {
     "name": "stdout",
     "output_type": "stream",
     "text": [
      "(6, 5)\n"
     ]
    }
   ],
   "source": [
    "import pandas as pd\n",
    "import yagmail\n",
    "\n",
    "# read the email addresses and names from a spreadsheet\n",
    "df = pd.read_excel(\"C:/Users/gabri/Downloads/TestEmail.xlsx\")\n",
    "\n",
    "print(df.shape)\n",
    "\n",
    "\n",
    "# create a yagmail instance\n",
    "yag = yagmail.SMTP('gabriel.affonso1@gmail.com', 'kkzgmntoqvjfwhri')\n",
    "\n",
    "# iterate over the rows of the spreadsheet and send the emails\n",
    "for index, row in df.iterrows():\n",
    "    to = row['Email']\n",
    "    subject = 'Isso é um email automatizado'\n",
    "    body = f\"Caríssimo {row['Name']},\\n\\nVeja bem.\\n Não é bem assim.\\n\\n Eu dei acesso irrestrito às minhas contas do google para uma inteligência artificial dos quais sabemos muito pouco sobre seu verdadeiro potencial e a estou fazendo uso para escrever  <em>vários</em> textos de correio eletrônico \\nBeijos do Bibiel,\\nBibiel, o Bípede.\\n\\nObs. O próximo passo do meu projeto de dominação mundial é integrar isso com o chat gpt, para fazer com que ele escreva o corpo do texto com base num prompt que eu envie e logo depois envie os email para quem eu quiser. \"\n",
    "    yag.send(to=to, subject=subject, contents=body)\n",
    "\n",
    "# close the SMTP connection\n",
    "yag.close()\n"
   ]
  }
 ],
 "metadata": {
  "kernelspec": {
   "display_name": "Python 3",
   "language": "python",
   "name": "python3"
  },
  "language_info": {
   "codemirror_mode": {
    "name": "ipython",
    "version": 3
   },
   "file_extension": ".py",
   "mimetype": "text/x-python",
   "name": "python",
   "nbconvert_exporter": "python",
   "pygments_lexer": "ipython3",
   "version": "3.11.2"
  },
  "orig_nbformat": 4
 },
 "nbformat": 4,
 "nbformat_minor": 2
}
